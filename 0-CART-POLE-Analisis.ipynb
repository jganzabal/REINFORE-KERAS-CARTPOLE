{
 "cells": [
  {
   "cell_type": "markdown",
   "metadata": {},
   "source": [
    "# Cart Pole analisis\n",
    "\n",
    "[Simple Reinforcement Learning with Tensorflow: Part 2 - Policy-based Agents](https://medium.com/@awjuliani/super-simple-reinforcement-learning-tutorial-part-2-ded33892c724#.zh7rnjs25)\n",
    "\n",
    "https://medium.com/@awjuliani/maximum-entropy-policies-in-reinforcement-learning-everyday-life-f5a1cc18d32d\n",
    "\n",
    "https://medium.com/@thechrisyoon/deriving-policy-gradients-and-implementing-reinforce-f887949bd63\n",
    "\n",
    "\n",
    "![alt text](cart_pole.gif \"Title\")"
   ]
  },
  {
   "cell_type": "code",
   "execution_count": 2,
   "metadata": {},
   "outputs": [],
   "source": [
    "%load_ext autoreload\n",
    "%autoreload 2"
   ]
  },
  {
   "cell_type": "markdown",
   "metadata": {},
   "source": [
    "# Instalación de librería gym\n",
    "\n",
    "https://gym.openai.com/\n",
    "\n",
    "pip install gym"
   ]
  },
  {
   "cell_type": "code",
   "execution_count": 3,
   "metadata": {},
   "outputs": [],
   "source": [
    "import numpy as np\n",
    "import matplotlib.pyplot as plt\n",
    "import gym"
   ]
  },
  {
   "cell_type": "code",
   "execution_count": 4,
   "metadata": {},
   "outputs": [],
   "source": [
    "#     Description:\n",
    "#         A pole is attached by an un-actuated joint to a cart, which moves along a frictionless track.\n",
    "#         The pendulum starts upright, and the goal is to prevent it from falling over by increasing and reducing the cart's velocity.\n",
    "#     Source:\n",
    "#         This environment corresponds to the version of the cart-pole problem described by Barto, Sutton, and Anderson\n",
    "#     Observation: \n",
    "#         Type: Box(4)\n",
    "#         Num\tObservation                 Min         Max\n",
    "#         0\tCart Position             -4.8            4.8\n",
    "#         1\tCart Velocity             -Inf            Inf\n",
    "#         2\tPole Angle                 -24 deg        24 deg\n",
    "#         3\tPole Velocity At Tip      -Inf            Inf\n",
    "        \n",
    "#     Actions:\n",
    "#         Type: Discrete(2)\n",
    "#         Num\tAction\n",
    "#         0\tPush cart to the left\n",
    "#         1\tPush cart to the right\n",
    "        \n",
    "#         Note: The amount the velocity that is reduced or increased is not fixed; it depends on the angle the pole is pointing. This is because the center of gravity of the pole increases the amount of energy needed to move the cart underneath it\n",
    "#     Reward:\n",
    "#         Reward is 1 for every step taken, including the termination step\n",
    "#     Starting State:\n",
    "#         All observations are assigned a uniform random value in [-0.05..0.05]\n",
    "#     Episode Termination:\n",
    "#         Pole Angle is more than 12 degrees\n",
    "#         Cart Position is more than 2.4 (center of the cart reaches the edge of the display)\n",
    "#         Episode length is greater than 200\n",
    "#         Solved Requirements\n",
    "#         Considered solved when the average reward is greater than or equal to 195.0 over 100 consecutive trials."
   ]
  },
  {
   "cell_type": "code",
   "execution_count": 5,
   "metadata": {},
   "outputs": [],
   "source": [
    "# Instancio cartpole\n",
    "env = gym.make(\"CartPole-v0\")"
   ]
  },
  {
   "cell_type": "markdown",
   "metadata": {},
   "source": [
    "### env.reset devuelve el estado:"
   ]
  },
  {
   "cell_type": "code",
   "execution_count": 6,
   "metadata": {},
   "outputs": [
    {
     "name": "stdout",
     "output_type": "stream",
     "text": [
      "position_of_cart: -0.045479486367894395\n",
      "velocity_of_cart: -0.015116461070639901\n",
      "angle_of_pole: 0.030468760073015744\n",
      "rotation_rate_of_pole: 0.018209170076067344\n"
     ]
    }
   ],
   "source": [
    "(position_of_cart, velocity_of_cart, angle_of_pole, rotation_rate_of_pole) = env.reset()\n",
    "# (position_of_cart, velocity_of_cart, angle_of_pole, rotation_rate_of_pole), reward, done, _ = env.step(env.action_space.sample())\n",
    "print('position_of_cart:', position_of_cart)\n",
    "print('velocity_of_cart:', velocity_of_cart)\n",
    "print('angle_of_pole:', angle_of_pole)\n",
    "print('rotation_rate_of_pole:', rotation_rate_of_pole)"
   ]
  },
  {
   "cell_type": "markdown",
   "metadata": {},
   "source": [
    "### env.step devuelve el estado, el reward como consecuencia de la acción, y si terminó o no el episodio"
   ]
  },
  {
   "cell_type": "code",
   "execution_count": 8,
   "metadata": {},
   "outputs": [
    {
     "name": "stdout",
     "output_type": "stream",
     "text": [
      "position_of_cart: -0.04999505198566974\n",
      "velocity_of_cart: -0.015992228610248044\n",
      "angle_of_pole: 0.03723989343548967\n",
      "rotation_rate_of_pole: 0.03754534936757237\n",
      "reward: 1.0\n",
      "done: False\n"
     ]
    }
   ],
   "source": [
    "# env.action_space.sample() muestrea el espacio de acción\n",
    "(position_of_cart, velocity_of_cart, angle_of_pole, rotation_rate_of_pole), reward, done, _ = env.step(env.action_space.sample())\n",
    "print('position_of_cart:', position_of_cart)\n",
    "print('velocity_of_cart:', velocity_of_cart)\n",
    "print('angle_of_pole:', angle_of_pole)\n",
    "print('rotation_rate_of_pole:', rotation_rate_of_pole)\n",
    "print('reward:', reward)\n",
    "print('done:', done)"
   ]
  },
  {
   "cell_type": "markdown",
   "metadata": {},
   "source": [
    "### Espacio de observación y de acción"
   ]
  },
  {
   "cell_type": "code",
   "execution_count": 9,
   "metadata": {},
   "outputs": [
    {
     "name": "stdout",
     "output_type": "stream",
     "text": [
      "<class 'gym.spaces.discrete.Discrete'> 2\n",
      "<class 'gym.spaces.box.Box'> (4,)\n"
     ]
    }
   ],
   "source": [
    "print(type(env.action_space), env.action_space.n)\n",
    "print(type(env.observation_space), env.observation_space.shape)"
   ]
  },
  {
   "cell_type": "code",
   "execution_count": 11,
   "metadata": {},
   "outputs": [
    {
     "data": {
      "text/plain": [
       "array([-1.78687632e+00, -1.07504296e+38,  1.23811916e-01,  2.29881013e+38],\n",
       "      dtype=float32)"
      ]
     },
     "execution_count": 11,
     "metadata": {},
     "output_type": "execute_result"
    }
   ],
   "source": [
    "# Muestrea el espacio de observación\n",
    "env.observation_space.sample()"
   ]
  },
  {
   "cell_type": "markdown",
   "metadata": {},
   "source": [
    "# Play random episode"
   ]
  },
  {
   "cell_type": "code",
   "execution_count": 12,
   "metadata": {},
   "outputs": [
    {
     "name": "stderr",
     "output_type": "stream",
     "text": [
      "Using TensorFlow backend.\n"
     ]
    }
   ],
   "source": [
    "from reinforce_alg_helper import get_random_episode, plot_episode, get_observations_stats"
   ]
  },
  {
   "cell_type": "code",
   "execution_count": 13,
   "metadata": {},
   "outputs": [],
   "source": [
    "states, actions, rewards, reward_sum, discounted_rewards = get_random_episode(env)"
   ]
  },
  {
   "cell_type": "code",
   "execution_count": 14,
   "metadata": {},
   "outputs": [
    {
     "data": {
      "image/png": "[encoded data removed]",
      "text/plain": [
       "<Figure size 1440x576 with 4 Axes>"
      ]
     },
     "metadata": {
      "needs_background": "light"
     },
     "output_type": "display_data"
    }
   ],
   "source": [
    "plot_episode(*states.T, actions)`"
   ]
  },
  {
   "cell_type": "code",
   "execution_count": 15,
   "metadata": {},
   "outputs": [
    {
     "name": "stdout",
     "output_type": "stream",
     "text": [
      "Media de las acciones [0,1]: 0.5018889106687813\n",
      "Media de rewards: 22.4468\n"
     ]
    },
    {
     "data": {
      "image/png": "[encoded data removed]",
      "text/plain": [
       "<Figure size 1440x720 with 6 Axes>"
      ]
     },
     "metadata": {
      "needs_background": "light"
     },
     "output_type": "display_data"
    },
    {
     "name": "stdout",
     "output_type": "stream",
     "text": [
      "CPU times: user 2.01 s, sys: 23.4 ms, total: 2.03 s\n",
      "Wall time: 2.03 s\n"
     ]
    }
   ],
   "source": [
    "%time states_means, states_stds = get_observations_stats(env, get_random_episode, N=5000)"
   ]
  },
  {
   "cell_type": "code",
   "execution_count": 16,
   "metadata": {},
   "outputs": [
    {
     "data": {
      "text/plain": [
       "(array([-0.00078585,  0.00496126,  0.00100266, -0.00284635]),\n",
       " array([0.10118803, 0.56367156, 0.1026144 , 0.85079903]))"
      ]
     },
     "execution_count": 16,
     "metadata": {},
     "output_type": "execute_result"
    }
   ],
   "source": [
    "states_means, states_stds"
   ]
  },
  {
   "cell_type": "markdown",
   "metadata": {},
   "source": [
    "## Setting up a Neural Network agent\n",
    "We will use a policy neural network that takes observations, passes them through a single hidden layer and then produces a probability of choosing a left/right movement."
   ]
  },
  {
   "cell_type": "code",
   "execution_count": 17,
   "metadata": {},
   "outputs": [],
   "source": [
    "from reinforce_alg_helper import get_policy_model, discount_rewards, score_model, run_episode"
   ]
  },
  {
   "cell_type": "code",
   "execution_count": 18,
   "metadata": {},
   "outputs": [
    {
     "name": "stdout",
     "output_type": "stream",
     "text": [
      "WARNING:tensorflow:From /home/usuario/anaconda3/envs/GPUV2/lib/python3.6/site-packages/tensorflow/python/framework/op_def_library.py:263: colocate_with (from tensorflow.python.framework.ops) is deprecated and will be removed in a future version.\n",
      "Instructions for updating:\n",
      "Colocations handled automatically by placer.\n"
     ]
    }
   ],
   "source": [
    "hidden_layer_neurons = 8\n",
    "lr = 1e-2\n",
    "model_train, model_predict = get_policy_model(env, hidden_layer_neurons, lr)"
   ]
  },
  {
   "cell_type": "code",
   "execution_count": 19,
   "metadata": {},
   "outputs": [
    {
     "name": "stdout",
     "output_type": "stream",
     "text": [
      "Model: \"model_2\"\n",
      "_________________________________________________________________\n",
      "Layer (type)                 Output Shape              Param #   \n",
      "=================================================================\n",
      "input_x (InputLayer)         (None, 4)                 0         \n",
      "_________________________________________________________________\n",
      "dense_1 (Dense)              (None, 8)                 32        \n",
      "_________________________________________________________________\n",
      "out (Dense)                  (None, 2)                 16        \n",
      "=================================================================\n",
      "Total params: 48\n",
      "Trainable params: 48\n",
      "Non-trainable params: 0\n",
      "_________________________________________________________________\n"
     ]
    }
   ],
   "source": [
    "model_predict.summary()"
   ]
  },
  {
   "cell_type": "code",
   "execution_count": 20,
   "metadata": {},
   "outputs": [
    {
     "name": "stdout",
     "output_type": "stream",
     "text": [
      "Model: \"model_1\"\n",
      "_________________________________________________________________\n",
      "Layer (type)                 Output Shape              Param #   \n",
      "=================================================================\n",
      "input_x (InputLayer)         (None, 4)                 0         \n",
      "_________________________________________________________________\n",
      "dense_1 (Dense)              (None, 8)                 32        \n",
      "_________________________________________________________________\n",
      "out (Dense)                  (None, 2)                 16        \n",
      "=================================================================\n",
      "Total params: 48\n",
      "Trainable params: 48\n",
      "Non-trainable params: 0\n",
      "_________________________________________________________________\n"
     ]
    }
   ],
   "source": [
    "model_train.summary()"
   ]
  },
  {
   "cell_type": "code",
   "execution_count": 19,
   "metadata": {},
   "outputs": [
    {
     "data": {
      "text/plain": [
       "(<tf.Tensor 'input_x:0' shape=(?, 4) dtype=float32>,\n",
       " [<tf.Tensor 'input_x:0' shape=(?, 4) dtype=float32>,\n",
       "  <tf.Tensor 'advantages:0' shape=(?, 1) dtype=float32>])"
      ]
     },
     "execution_count": 19,
     "metadata": {},
     "output_type": "execute_result"
    }
   ],
   "source": [
    "model_predict.input, model_train.input"
   ]
  },
  {
   "cell_type": "code",
   "execution_count": 23,
   "metadata": {},
   "outputs": [
    {
     "name": "stdout",
     "output_type": "stream",
     "text": [
      "Media de las acciones [0,1]: 0.951708341286505\n",
      "Media de rewards: 10.478\n"
     ]
    },
    {
     "data": {
      "image/png": "[encoded data removed]",
      "text/plain": [
       "<Figure size 1440x720 with 6 Axes>"
      ]
     },
     "metadata": {
      "needs_background": "light"
     },
     "output_type": "display_data"
    },
    {
     "name": "stdout",
     "output_type": "stream",
     "text": [
      "CPU times: user 5.31 s, sys: 314 ms, total: 5.62 s\n",
      "Wall time: 3.57 s\n"
     ]
    }
   ],
   "source": [
    "%time states_means, states_stds = get_observations_stats(env, lambda env: run_episode(env, model_predict, greedy=True), N=1000)"
   ]
  },
  {
   "cell_type": "code",
   "execution_count": 26,
   "metadata": {},
   "outputs": [
    {
     "name": "stdout",
     "output_type": "stream",
     "text": [
      "Media de las acciones [0,1]: 0.5655489248839632\n",
      "Media de rewards: 21.114\n"
     ]
    },
    {
     "data": {
      "image/png": "[encoded data removed]",
      "text/plain": [
       "<Figure size 1440x720 with 6 Axes>"
      ]
     },
     "metadata": {
      "needs_background": "light"
     },
     "output_type": "display_data"
    },
    {
     "name": "stdout",
     "output_type": "stream",
     "text": [
      "CPU times: user 11.4 s, sys: 642 ms, total: 12 s\n",
      "Wall time: 7.63 s\n"
     ]
    }
   ],
   "source": [
    "%time states_means, states_stds = get_observations_stats(env, lambda env: run_episode(env, model_predict, greedy=False), N=1000)"
   ]
  },
  {
   "cell_type": "markdown",
   "metadata": {},
   "source": [
    "# Ejemplo primer episodio"
   ]
  },
  {
   "cell_type": "code",
   "execution_count": 27,
   "metadata": {},
   "outputs": [],
   "source": [
    "states, actions, rewards, reward_sum, discounted_rewards_episode = run_episode(env, model_predict, gamma=0.99)"
   ]
  },
  {
   "cell_type": "code",
   "execution_count": 28,
   "metadata": {},
   "outputs": [
    {
     "data": {
      "text/plain": [
       "((18, 4), (18, 1), (18, 1), 18.0)"
      ]
     },
     "execution_count": 28,
     "metadata": {},
     "output_type": "execute_result"
    }
   ],
   "source": [
    "states.shape, actions.shape, rewards.shape, reward_sum"
   ]
  },
  {
   "cell_type": "code",
   "execution_count": 29,
   "metadata": {},
   "outputs": [],
   "source": [
    "discounted_rewards = np.empty(0).reshape(0,1)\n",
    "total_actions = np.empty(0).reshape(0,1)"
   ]
  },
  {
   "cell_type": "code",
   "execution_count": 30,
   "metadata": {},
   "outputs": [
    {
     "data": {
      "text/plain": [
       "array([16.54862385, 15.70568066, 14.85422289, 13.99416454, 13.12541872,\n",
       "       12.2478977 , 11.36151283, 10.46617457,  9.5617925 ,  8.64827525,\n",
       "        7.72553056,  6.79346521,  5.85198506,  4.90099501,  3.940399  ,\n",
       "        2.9701    ,  1.99      ,  1.        ])"
      ]
     },
     "execution_count": 30,
     "metadata": {},
     "output_type": "execute_result"
    }
   ],
   "source": [
    "discounted_rewards_episode.reshape(-1)"
   ]
  },
  {
   "cell_type": "code",
   "execution_count": 31,
   "metadata": {},
   "outputs": [
    {
     "data": {
      "text/plain": [
       "(18, 1)"
      ]
     },
     "execution_count": 31,
     "metadata": {},
     "output_type": "execute_result"
    }
   ],
   "source": [
    "discounted_rewards = np.vstack([discounted_rewards, discounted_rewards_episode])\n",
    "discounted_rewards.shape"
   ]
  },
  {
   "cell_type": "code",
   "execution_count": 32,
   "metadata": {},
   "outputs": [
    {
     "data": {
      "text/plain": [
       "(18, 1)"
      ]
     },
     "execution_count": 32,
     "metadata": {},
     "output_type": "execute_result"
    }
   ],
   "source": [
    "total_actions = np.vstack([total_actions, actions])\n",
    "total_actions.shape"
   ]
  },
  {
   "cell_type": "markdown",
   "metadata": {},
   "source": [
    "# Segundo episodio"
   ]
  },
  {
   "cell_type": "code",
   "execution_count": 33,
   "metadata": {},
   "outputs": [],
   "source": [
    "states, actions, rewards, reward_sum, discounted_rewards_episode = run_episode(env, model_predict)"
   ]
  },
  {
   "cell_type": "code",
   "execution_count": 34,
   "metadata": {},
   "outputs": [
    {
     "data": {
      "text/plain": [
       "((13, 4), (13, 1), (13, 1), 13.0)"
      ]
     },
     "execution_count": 34,
     "metadata": {},
     "output_type": "execute_result"
    }
   ],
   "source": [
    "states.shape, actions.shape, rewards.shape, reward_sum"
   ]
  },
  {
   "cell_type": "code",
   "execution_count": 35,
   "metadata": {},
   "outputs": [
    {
     "data": {
      "text/plain": [
       "array([12.2478977 , 11.36151283, 10.46617457,  9.5617925 ,  8.64827525,\n",
       "        7.72553056,  6.79346521,  5.85198506,  4.90099501,  3.940399  ,\n",
       "        2.9701    ,  1.99      ,  1.        ])"
      ]
     },
     "execution_count": 35,
     "metadata": {},
     "output_type": "execute_result"
    }
   ],
   "source": [
    "discounted_rewards_episode.reshape(-1)"
   ]
  },
  {
   "cell_type": "markdown",
   "metadata": {},
   "source": [
    "# Mergeamos ambos episodios"
   ]
  },
  {
   "cell_type": "code",
   "execution_count": 37,
   "metadata": {},
   "outputs": [
    {
     "data": {
      "text/plain": [
       "(31, 1)"
      ]
     },
     "execution_count": 37,
     "metadata": {},
     "output_type": "execute_result"
    }
   ],
   "source": [
    "discounted_rewards = np.vstack([discounted_rewards, discounted_rewards_episode])\n",
    "discounted_rewards.shape"
   ]
  },
  {
   "cell_type": "code",
   "execution_count": 38,
   "metadata": {},
   "outputs": [
    {
     "data": {
      "text/plain": [
       "(31, 1)"
      ]
     },
     "execution_count": 38,
     "metadata": {},
     "output_type": "execute_result"
    }
   ],
   "source": [
    "total_actions = np.vstack([total_actions, actions])\n",
    "total_actions.shape"
   ]
  },
  {
   "cell_type": "code",
   "execution_count": 39,
   "metadata": {},
   "outputs": [],
   "source": [
    "from reinforce_alg_helper import apply_baselines\n",
    "discounted_rewards_normalized = apply_baselines(discounted_rewards)"
   ]
  },
  {
   "cell_type": "code",
   "execution_count": 40,
   "metadata": {},
   "outputs": [
    {
     "data": {
      "text/plain": [
       "array([ 1.92917517,  1.73812245,  1.54513991,  1.35020805,  1.15330719,\n",
       "        0.95441742,  0.75351867,  0.55059064,  0.34561283,  0.13856453,\n",
       "       -0.07057516, -0.28182737, -0.49521344, -0.71075493, -0.92847361,\n",
       "       -1.14839146, -1.37053071, -1.59491379,  0.95441742,  0.75351867,\n",
       "        0.55059064,  0.34561283,  0.13856453, -0.07057516, -0.28182737,\n",
       "       -0.49521344, -0.71075493, -0.92847361, -1.14839146, -1.37053071,\n",
       "       -1.59491379])"
      ]
     },
     "execution_count": 40,
     "metadata": {},
     "output_type": "execute_result"
    }
   ],
   "source": [
    "discounted_rewards_normalized.reshape(-1)"
   ]
  },
  {
   "cell_type": "markdown",
   "metadata": {},
   "source": [
    "## Pasamos acciones a one hot enconding"
   ]
  },
  {
   "cell_type": "code",
   "execution_count": 41,
   "metadata": {},
   "outputs": [],
   "source": [
    "from reinforce_alg_helper import actions_to_one_hot"
   ]
  },
  {
   "cell_type": "code",
   "execution_count": 42,
   "metadata": {},
   "outputs": [],
   "source": [
    "actions_train = actions_to_one_hot(total_actions)"
   ]
  },
  {
   "cell_type": "code",
   "execution_count": 43,
   "metadata": {},
   "outputs": [
    {
     "name": "stdout",
     "output_type": "stream",
     "text": [
      "[[1. 0.]\n",
      " [0. 1.]\n",
      " [1. 0.]\n",
      " [1. 0.]\n",
      " [1. 0.]\n",
      " [0. 1.]\n",
      " [0. 1.]\n",
      " [1. 0.]\n",
      " [0. 1.]\n",
      " [1. 0.]\n",
      " [1. 0.]\n",
      " [0. 1.]\n",
      " [1. 0.]\n",
      " [1. 0.]\n",
      " [0. 1.]\n",
      " [1. 0.]\n",
      " [0. 1.]\n",
      " [0. 1.]\n",
      " [0. 1.]\n",
      " [1. 0.]\n",
      " [1. 0.]\n",
      " [0. 1.]\n",
      " [0. 1.]\n",
      " [0. 1.]\n",
      " [1. 0.]\n",
      " [0. 1.]\n",
      " [0. 1.]\n",
      " [0. 1.]\n",
      " [0. 1.]\n",
      " [0. 1.]\n",
      " [1. 0.]]\n"
     ]
    },
    {
     "data": {
      "text/plain": [
       "(31, 2)"
      ]
     },
     "execution_count": 43,
     "metadata": {},
     "output_type": "execute_result"
    }
   ],
   "source": [
    "print(actions_train)\n",
    "actions_train.shape"
   ]
  },
  {
   "cell_type": "markdown",
   "metadata": {},
   "source": [
    "# Genero un batch de datos para despues entrenar la red"
   ]
  },
  {
   "cell_type": "code",
   "execution_count": 44,
   "metadata": {},
   "outputs": [],
   "source": [
    "def get_batch_data(model, batch_size=50):\n",
    "    batch_states = np.empty(0).reshape(0,model.input_shape[1])\n",
    "    batch_actions = np.empty(0).reshape(0,1)\n",
    "    discounted_rewards = np.empty(0).reshape(0,1)\n",
    "    batch_probs = np.empty(0).reshape(0,2)\n",
    "    for i in range(batch_size):\n",
    "        states, actions, _, _, discounted_rewards_episode, probs= run_episode(env, model, get_probs=True)\n",
    "        discounted_rewards = np.vstack([discounted_rewards, discounted_rewards_episode])\n",
    "        batch_states = np.vstack([batch_states, states]) \n",
    "        batch_actions = np.vstack([batch_actions, actions]) \n",
    "        batch_probs = np.vstack([batch_probs, np.array(probs)])\n",
    "    return batch_states, batch_actions, discounted_rewards, batch_probs"
   ]
  },
  {
   "cell_type": "code",
   "execution_count": 45,
   "metadata": {},
   "outputs": [],
   "source": [
    "batch_states, batch_actions, discounted_rewards, batch_probs = get_batch_data(model_predict, 50)"
   ]
  },
  {
   "cell_type": "code",
   "execution_count": 46,
   "metadata": {},
   "outputs": [
    {
     "data": {
      "text/plain": [
       "((1038, 4), (1038, 1), (1038, 1), (1038, 2))"
      ]
     },
     "execution_count": 46,
     "metadata": {},
     "output_type": "execute_result"
    }
   ],
   "source": [
    "batch_states.shape, batch_actions.shape, discounted_rewards.shape, batch_probs.shape"
   ]
  },
  {
   "cell_type": "code",
   "execution_count": 47,
   "metadata": {},
   "outputs": [],
   "source": [
    "discounted_rewards = apply_baselines(discounted_rewards)"
   ]
  },
  {
   "cell_type": "code",
   "execution_count": 48,
   "metadata": {},
   "outputs": [],
   "source": [
    "actions_train = actions_to_one_hot(batch_actions)"
   ]
  },
  {
   "cell_type": "code",
   "execution_count": 49,
   "metadata": {},
   "outputs": [
    {
     "data": {
      "text/plain": [
       "((1038,), (1038, 1), (1038, 2), (1038, 4))"
      ]
     },
     "execution_count": 49,
     "metadata": {},
     "output_type": "execute_result"
    }
   ],
   "source": [
    "discounted_rewards.shape, batch_actions.shape, actions_train.shape, batch_states.shape"
   ]
  },
  {
   "cell_type": "code",
   "execution_count": 50,
   "metadata": {},
   "outputs": [
    {
     "name": "stdout",
     "output_type": "stream",
     "text": [
      "1038/1038 [==============================] - 0s 24us/step\n"
     ]
    },
    {
     "data": {
      "text/plain": [
       "0.039625574054056506"
      ]
     },
     "execution_count": 50,
     "metadata": {},
     "output_type": "execute_result"
    }
   ],
   "source": [
    "model_train.evaluate([batch_states, discounted_rewards], actions_train, verbose=1)"
   ]
  },
  {
   "cell_type": "code",
   "execution_count": 51,
   "metadata": {},
   "outputs": [
    {
     "name": "stdout",
     "output_type": "stream",
     "text": [
      "WARNING:tensorflow:From /home/usuario/anaconda3/envs/GPUV2/lib/python3.6/site-packages/tensorflow/python/ops/math_ops.py:3066: to_int32 (from tensorflow.python.ops.math_ops) is deprecated and will be removed in a future version.\n",
      "Instructions for updating:\n",
      "Use tf.cast instead.\n",
      "0.039625578\n",
      "0.031740293\n",
      "0.02430615\n",
      "0.017326621\n",
      "0.010819271\n"
     ]
    }
   ],
   "source": [
    "training_episodes = 5\n",
    "for i in range(training_episodes):\n",
    "    loss = model_train.train_on_batch([batch_states, discounted_rewards], actions_train)\n",
    "    print(loss)"
   ]
  },
  {
   "cell_type": "code",
   "execution_count": null,
   "metadata": {},
   "outputs": [],
   "source": []
  }
 ],
 "metadata": {
  "kernelspec": {
   "display_name": "Python 3",
   "language": "python",
   "name": "python3"
  },
  "language_info": {
   "codemirror_mode": {
    "name": "ipython",
    "version": 3
   },
   "file_extension": ".py",
   "mimetype": "text/x-python",
   "name": "python",
   "nbconvert_exporter": "python",
   "pygments_lexer": "ipython3",
   "version": "3.6.8"
  }
 },
 "nbformat": 4,
 "nbformat_minor": 2
}
